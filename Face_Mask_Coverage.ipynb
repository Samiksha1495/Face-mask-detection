ified{
  "nbformat": 4,
  "nbformat_minor": 0,
  "metadata": {
    "colab": {
      "name": "Face_Mask_Coverage.ipynb",
      "provenance": [],
      "collapsed_sections": []
    },
    "kernelspec": {
      "name": "python3",
      "display_name": "Python 3"
    }
  },
  "cells": [
    {
      "cell_type": "code",
      "metadata": {
        "colab": {
          "base_uri": "https://localhost:8080/"
        },
        "id": "gncAA-x3Ulrg",
        "outputId": "6dd1c6fb-2841-4e52-9f42-e6b97b068453"
      },
      "source": [
        "!git clone https://github.com/Samiksha1495/Face-mask-detection.git\r\n",
        "%cd Face-mask-detection"
      ],
      "execution_count": 1,
      "outputs": [
        {
          "output_type": "stream",
          "text": [
            "Cloning into 'Face-mask-detection'...\n",
            "remote: Enumerating objects: 11, done.\u001b[K\n",
            "remote: Counting objects: 100% (11/11), done.\u001b[K\n",
            "remote: Compressing objects: 100% (11/11), done.\u001b[K\n",
            "remote: Total 11 (delta 0), reused 11 (delta 0), pack-reused 0\u001b[K\n",
            "Unpacking objects: 100% (11/11), done.\n",
            "/content/Face-mask-detection\n"
          ],
          "name": "stdout"
        }
      ]
    },
    {
      "cell_type": "code",
      "metadata": {
        "id": "yeOkW2dtUtqs"
      },
      "source": [
        "import cv2\r\n",
        "import os\r\n",
        "from tensorflow.keras.preprocessing.image import img_to_array\r\n",
        "from tensorflow.keras.models import load_model\r\n",
        "from tensorflow.keras.applications.mobilenet_v2 import preprocess_input\r\n",
        "import numpy as np\r\n",
        "from google.colab.patches import cv2_imshow\r\n",
        "\r\n",
        "faceCascade = cv2.CascadeClassifier(\"haarcascade_frontalface_alt2.xml\")\r\n",
        "model = load_model(\"mask_recog.h5\")\r\n",
        "\r\n",
        "def face_mask_detector(frame):\r\n",
        "  # frame = cv2.imread(fileName)\r\n",
        "  gray = cv2.cvtColor(frame, cv2.COLOR_BGR2GRAY)\r\n",
        "  faces = faceCascade.detectMultiScale(gray,\r\n",
        "                                        scaleFactor=1.1,\r\n",
        "                                        minNeighbors=5,\r\n",
        "                                        minSize=(60, 60),\r\n",
        "                                        flags=cv2.CASCADE_SCALE_IMAGE)\r\n",
        "  faces_list=[]\r\n",
        "  preds=[]\r\n",
        "  for (x, y, w, h) in faces:\r\n",
        "      face_frame = frame[y:y+h,x:x+w]\r\n",
        "      face_frame = cv2.cvtColor(face_frame, cv2.COLOR_BGR2RGB)\r\n",
        "      face_frame = cv2.resize(face_frame, (224, 224))\r\n",
        "      face_frame = img_to_array(face_frame)\r\n",
        "      face_frame = np.expand_dims(face_frame, axis=0)\r\n",
        "      face_frame =  preprocess_input(face_frame)\r\n",
        "      faces_list.append(face_frame)\r\n",
        "      if len(faces_list)>0:\r\n",
        "          preds = model.predict(faces_list)\r\n",
        "      for pred in preds:\r\n",
        "          (mask, withoutMask) = pred\r\n",
        "      label = \"Mask\" if mask > withoutMask else \"No Mask\"\r\n",
        "      color = (0, 255, 0) if label == \"Mask\" else (0, 0, 255)\r\n",
        "      label = \"{}: {:.2f}%\".format(label, max(mask, withoutMask) * 100)\r\n",
        "      cv2.putText(frame, label, (x, y- 10),\r\n",
        "                  cv2.FONT_HERSHEY_SIMPLEX, 1, color, 2)\r\n",
        "\r\n",
        "      cv2.rectangle(frame, (x, y), (x + w, y + h),color, 3)\r\n",
        "  # cv2_imshow(frame)\r\n",
        "  return frame"
      ],
      "execution_count": null,
      "outputs": []
    },
    {
      "cell_type": "code",
      "metadata": {
        "id": "3bGWbaD9U0eF"
      },
      "source": [
        "input_image = cv2.imread(\"image.jpg\")\r\n",
        "output = face_mask_detector(input_image)\r\n",
        "cv2_imshow(output)"
      ],
      "execution_count": null,
      "outputs": []
    },
    {
      "cell_type": "code",
      "metadata": {
        "id": "Ko9ZRAdqU2q9"
      },
      "source": [
        "input_image = cv2.imread(\"image4.jpg\")\r\n",
        "output = face_mask_detector(input_image)\r\n",
        "cv2_imshow(output)"
      ],
      "execution_count": null,
      "outputs": []
    },
    {
      "cell_type": "code",
      "metadata": {
        "id": "A6dX2vf2U4Tp"
      },
      "source": [
        "input_image = cv2.imread(\"img1.jpeg\")\r\n",
        "output = face_mask_detector(input_image)\r\n",
        "cv2_imshow(output)"
      ],
      "execution_count": null,
      "outputs": []
    },
    {
      "cell_type": "code",
      "metadata": {
        "id": "DYG8gZnYU6Nv"
      },
      "source": [
        "input_image = cv2.imread(\"img2.jpeg\")\r\n",
        "output = face_mask_detector(input_image)\r\n",
        "cv2_imshow(output)"
      ],
      "execution_count": null,
      "outputs": []
    },
    {
      "cell_type": "code",
      "metadata": {
        "id": "US-DW-EpU61B"
      },
      "source": [
        "input_image = cv2.imread(\"img3.jpeg\")\r\n",
        "output = face_mask_detector(input_image)\r\n",
        "cv2_imshow(output)"
      ],
      "execution_count": null,
      "outputs": []
    }
  ]
}